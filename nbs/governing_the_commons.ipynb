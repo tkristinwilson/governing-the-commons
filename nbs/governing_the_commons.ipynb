{
 "cells": [
  {
   "cell_type": "markdown",
   "id": "f80b1eb5-d859-4041-b6f0-89527ba24b6c",
   "metadata": {},
   "source": [
    "# Governing the Commons"
   ]
  },
  {
   "cell_type": "code",
   "execution_count": null,
   "id": "69999501-9e45-4334-8a62-0c72c236dc18",
   "metadata": {},
   "outputs": [],
   "source": [
    "%load_ext autoreload\n",
    "%autoreload 2\n",
    "%matplotlib inline"
   ]
  },
  {
   "cell_type": "code",
   "execution_count": null,
   "id": "e9851d32-7ccb-4ae3-afaf-c7c2ae4a0caf",
   "metadata": {},
   "outputs": [],
   "source": [
    "import json"
   ]
  },
  {
   "cell_type": "markdown",
   "id": "f94b6cd0-c127-493c-b912-39563b7a9a90",
   "metadata": {},
   "source": [
    "## Load Params"
   ]
  },
  {
   "cell_type": "code",
   "execution_count": null,
   "id": "6467143f-a334-44c9-b264-2585647e92c0",
   "metadata": {},
   "outputs": [],
   "source": [
    "# load different param sets here\n",
    "params_set  = \"v1\""
   ]
  },
  {
   "cell_type": "code",
   "execution_count": null,
   "id": "a70433f6-eeab-467d-8ba9-3a28b085abaa",
   "metadata": {},
   "outputs": [],
   "source": [
    "with open(f\"params.{params_set}.json\") as param_file:\n",
    "    file_contents = param_file.read()\n",
    "    params = json.loads(file_contents)\n",
    "    \n",
    "print(params)"
   ]
  },
  {
   "cell_type": "markdown",
   "id": "42d5b81b-373b-4b8e-98ef-7bbab9068d4b",
   "metadata": {},
   "source": [
    "## Load Model"
   ]
  },
  {
   "cell_type": "code",
   "execution_count": null,
   "id": "3a1f1a91-3511-4c7d-a061-5c6fcf5b5dea",
   "metadata": {},
   "outputs": [],
   "source": [
    "# load different behaviour sets here\n",
    "import models.model_one.model as m\n",
    "import models.model_one.behaviour as b\n",
    "import models.model_one.data as d\n",
    "\n",
    "model = m.new_model(params)\n",
    "model = b.add_behaviour(model)\n",
    "model = d.add_data(model, params)\n",
    "\n",
    "model.name"
   ]
  },
  {
   "cell_type": "markdown",
   "id": "33bd2b95-ceb3-46c7-98b5-1c6be6c918c4",
   "metadata": {},
   "source": [
    "## Run Model\n",
    "\n",
    "System Behaviours\n",
    "- over-exploitation and collapse of apples\n",
    "- min_harvest_level (threshold): sustainable apples over time\n",
    "- imitation: race to the bottom (decreasing threshold) - add behaviour\n",
    "- imitation with mistakes: depletion of apples - add behaviour\n",
    "- penalisations: challenge to balance - add behaviour"
   ]
  },
  {
   "cell_type": "code",
   "execution_count": null,
   "id": "d014dd06-b4be-4f67-86ce-e211d6b890d6",
   "metadata": {},
   "outputs": [],
   "source": [
    "m.show_cpanel(model)"
   ]
  },
  {
   "cell_type": "code",
   "execution_count": null,
   "id": "f0cee7a9-146e-4de4-9395-bb4f9e0985ca",
   "metadata": {
    "scrolled": true
   },
   "outputs": [],
   "source": [
    "m.run_model(model)"
   ]
  },
  {
   "cell_type": "markdown",
   "id": "f568d89c-3f8b-47bf-bfbd-e5a71d135af6",
   "metadata": {},
   "source": [
    "# fin"
   ]
  }
 ],
 "metadata": {
  "kernelspec": {
   "display_name": "earthmod311",
   "language": "python",
   "name": "earthmod311"
  },
  "language_info": {
   "codemirror_mode": {
    "name": "ipython",
    "version": 3
   },
   "file_extension": ".py",
   "mimetype": "text/x-python",
   "name": "python",
   "nbconvert_exporter": "python",
   "pygments_lexer": "ipython3",
   "version": "3.11.5"
  }
 },
 "nbformat": 4,
 "nbformat_minor": 5
}
